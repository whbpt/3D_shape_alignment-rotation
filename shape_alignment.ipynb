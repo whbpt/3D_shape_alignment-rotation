{
  "nbformat": 4,
  "nbformat_minor": 0,
  "metadata": {
    "colab": {
      "name": "shape_alignment.ipynb",
      "version": "0.3.2",
      "provenance": [],
      "include_colab_link": true
    },
    "kernelspec": {
      "name": "python3",
      "display_name": "Python 3"
    }
  },
  "cells": [
    {
      "cell_type": "markdown",
      "metadata": {
        "id": "view-in-github",
        "colab_type": "text"
      },
      "source": [
        "<a href=\"https://colab.research.google.com/github/whbpt/3D_shape_alignment-rotation/blob/master/shape_alignment.ipynb\" target=\"_parent\"><img src=\"https://colab.research.google.com/assets/colab-badge.svg\" alt=\"Open In Colab\"/></a>"
      ]
    },
    {
      "cell_type": "markdown",
      "metadata": {
        "id": "6wGKLuVcqFYg",
        "colab_type": "text"
      },
      "source": [
        "This is the implementation to Construct  transform matrix to align any same shapes(such as triangle, tetrahedron..) together.\n",
        "Here is the [reference](https://stackoverflow.com/questions/28075743/how-do-i-compose-a-rotation-matrix-with-human-readable-angles-from-scratch/28084380#28084380)."
      ]
    },
    {
      "cell_type": "markdown",
      "metadata": {
        "id": "OKICaH2699YG",
        "colab_type": "text"
      },
      "source": [
        "##library"
      ]
    },
    {
      "cell_type": "code",
      "metadata": {
        "id": "v7f3LkeKywXb",
        "colab_type": "code",
        "colab": {}
      },
      "source": [
        "########################\n",
        "# loading library\n",
        "########################\n",
        "import numpy as np\n",
        "import matplotlib.pylab as plt\n",
        "from plotly.offline import download_plotlyjs, init_notebook_mode, plot, iplot\n",
        "import plotly.graph_objs as go"
      ],
      "execution_count": 0,
      "outputs": []
    },
    {
      "cell_type": "code",
      "metadata": {
        "id": "BeVu7R2_yyG3",
        "colab_type": "code",
        "colab": {}
      },
      "source": [
        "########################\n",
        "# for 3D plotting\n",
        "########################\n",
        "init_notebook_mode(connected=False)\n",
        "def configure_plotly_browser_state():\n",
        "  import IPython\n",
        "  display(IPython.core.display.HTML('''\n",
        "  <script src=\"/static/components/requirejs/require.js\"></script>\n",
        "  <script>requirejs.config({paths: {base: '/static/base', plotly: 'https://cdn.plot.ly/plotly-latest.min.js?noext',},});</script>'''))\n",
        "  \n",
        "def plot_3D(X):\n",
        "  configure_plotly_browser_state()\n",
        "  cs = [[0.0,'blue'],[0.2,'cyan'],[0.4,'lime'],[0.6,'yellow'],[0.8,'orange'],[1.0,'red']]\n",
        "  line_params = dict(width=20,color=np.arange(len(X)),colorscale=cs)\n",
        "  iplot([go.Scatter3d(mode=\"lines\",x=X[:,0],y=X[:,1],z=X[:,2],line=line_params)])"
      ],
      "execution_count": 0,
      "outputs": []
    },
    {
      "cell_type": "markdown",
      "metadata": {
        "id": "w_3NUpvq9_j1",
        "colab_type": "text"
      },
      "source": [
        "##main"
      ]
    },
    {
      "cell_type": "code",
      "metadata": {
        "id": "alv3pXwWyz0L",
        "colab_type": "code",
        "colab": {}
      },
      "source": [
        "#generate a random shape, n >=3\n",
        "size_of_shape = 10 #@param {type:\"number\"}\n",
        "ref_shape = np.random.random(size=(size_of_shape,3))"
      ],
      "execution_count": 0,
      "outputs": []
    },
    {
      "cell_type": "code",
      "metadata": {
        "id": "Uknas7968Aht",
        "colab_type": "code",
        "colab": {}
      },
      "source": [
        "#generate a random transform shape from ref_shape\n",
        "\n",
        "#rotation matrix\n",
        "ang = np.random.random()\n",
        "\n",
        "R = [[1,0,0],\n",
        "     [0,np.cos(ang),-np.sin(ang)],\n",
        "     [0,np.sin(ang),np.cos(ang)]]\n",
        "R = np.array(R)\n",
        "\n",
        "#translation matrix\n",
        "T = np.random.random(size=(1,3))\n",
        "new_shape = ref_shape@R + T"
      ],
      "execution_count": 0,
      "outputs": []
    },
    {
      "cell_type": "code",
      "metadata": {
        "id": "62rw674R-F3i",
        "colab_type": "code",
        "colab": {}
      },
      "source": [
        "plot_3D(np.concatenate((new_shape)))"
      ],
      "execution_count": 0,
      "outputs": []
    },
    {
      "cell_type": "code",
      "metadata": {
        "id": "dVLmy-7Q8BGy",
        "colab_type": "code",
        "colab": {}
      },
      "source": [
        "def transform(a,c):\n",
        "\n",
        "  #normalization function by last axis\n",
        "  def L2normize(x):\n",
        "    return x/np.sqrt(np.sum(np.square(x),axis=-1,keepdims=True))\n",
        "  \n",
        "  #get transform matrix\n",
        "  def get_m(c):\n",
        "    x = c[1]\n",
        "    y = c[2]\n",
        "    z = np.cross(x,y)\n",
        "    y = np.cross(z,x)\n",
        "    return L2normize(np.stack((x,y,z),axis=0))\n",
        " \n",
        "\n",
        "  return np.linalg.inv(get_m(a)) @ get_m(c)\n",
        "\n"
      ],
      "execution_count": 0,
      "outputs": []
    },
    {
      "cell_type": "markdown",
      "metadata": {
        "id": "r7E2uh1vpwuG",
        "colab_type": "text"
      },
      "source": [
        "![transform matrix](https://i.stack.imgur.com/1JvL0.png)"
      ]
    },
    {
      "cell_type": "markdown",
      "metadata": {
        "id": "wCkJDFeQ-CPS",
        "colab_type": "text"
      },
      "source": [
        "##show"
      ]
    },
    {
      "cell_type": "code",
      "metadata": {
        "id": "gx3WhN_8zIdM",
        "colab_type": "code",
        "colab": {}
      },
      "source": [
        "\n",
        "R1 = transform(ref_shape - ref_shape[0],new_shape - new_shape[0])\n",
        "\n",
        "a2c = (ref_shape - ref_shape[0])@R1 + new_shape[0]\n",
        "\n",
        "plot_3D(np.concatenate((a2c,new_shape)))"
      ],
      "execution_count": 0,
      "outputs": []
    },
    {
      "cell_type": "code",
      "metadata": {
        "id": "8xlrAkzrnY-C",
        "colab_type": "code",
        "colab": {}
      },
      "source": [
        "R2 = transform(new_shape - new_shape[0],ref_shape - ref_shape[0])\n",
        "\n",
        "c2a = (new_shape - new_shape[0])@R2 + ref_shape[0]\n",
        "\n",
        "plot_3D(np.concatenate((c2a,ref_shape)))"
      ],
      "execution_count": 0,
      "outputs": []
    },
    {
      "cell_type": "markdown",
      "metadata": {
        "id": "jMXaT4MFC2ur",
        "colab_type": "text"
      },
      "source": [
        "## funky rotation"
      ]
    },
    {
      "cell_type": "code",
      "metadata": {
        "id": "02gBGe0S2q5w",
        "colab_type": "code",
        "colab": {}
      },
      "source": [
        "from matplotlib import animation,rc\n",
        "rc('animation', html='html5')\n",
        "#initialization function: plot the background of each frame\n",
        "def init():\n",
        "    line.set_data([], [])\n",
        "    return (line,)\n",
        "# animation function. This is called sequentially\n",
        "ang = np.random.random()\n",
        "def rotate(ang):\n",
        "  R = [[1,0,0],\n",
        "       [0,np.cos(ang),-np.sin(ang)],\n",
        "       [0,np.sin(ang),np.cos(ang)]]\n",
        "  return np.array(R)\n",
        "def animate(i):\n",
        "  \n",
        "  new = ref_shape@rotate(i/np.pi*1)\n",
        "  \n",
        "  x = new[:,0]\n",
        "  y = new[:,1]\n",
        "  line.set_data(x, y)\n",
        "  return (line,)\n",
        "# call the animator. blit=True means only re-draw the parts that \n",
        "# have changed.\n",
        "fig, ax = plt.subplots()\n",
        "ax.set_xlim(( -2, 2))\n",
        "ax.set_ylim((-2, 2))\n",
        "line, = ax.plot([], [], lw=2)\n",
        "\n",
        "anim = animation.FuncAnimation(fig, animate, init_func=init,\n",
        "                               frames=180, interval=100, blit=True)"
      ],
      "execution_count": 0,
      "outputs": []
    },
    {
      "cell_type": "code",
      "metadata": {
        "id": "OP-7PSME7-_k",
        "colab_type": "code",
        "colab": {}
      },
      "source": [
        "anim"
      ],
      "execution_count": 0,
      "outputs": []
    }
  ]
}